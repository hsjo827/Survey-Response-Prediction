{
 "cells": [
  {
   "cell_type": "markdown",
   "metadata": {
    "papermill": {
     "duration": 0.007344,
     "end_time": "2023-12-11T12:09:41.742361",
     "exception": false,
     "start_time": "2023-12-11T12:09:41.735017",
     "status": "completed"
    },
    "tags": []
   },
   "source": [
    "- **문제**   \n",
    "*\"각 패널에게 어떤 온라인 설문조사를 요청해야 응답할까?\"*    \n",
    "**KML Challenge 2023F**에서는 이 문제를 가장 잘 해결할 수 있는 예측 모델을 개발하는 것이 목적\n",
    "- **평가척도**   \n",
    "정확도(Accuracy)\n",
    "- **데이터**   \n",
    "   - train.csv(학습데이터), test.csv(평가테이터)\n",
    "   - 각 데이터 포인트는 패널 정보, 설문정보, 응답여부(STATUS)로 구성"
   ]
  },
  {
   "cell_type": "markdown",
   "metadata": {
    "papermill": {
     "duration": 0.007459,
     "end_time": "2023-12-11T12:09:41.757454",
     "exception": false,
     "start_time": "2023-12-11T12:09:41.749995",
     "status": "completed"
    },
    "tags": []
   },
   "source": [
    "### Imports"
   ]
  },
  {
   "cell_type": "code",
   "execution_count": 1,
   "metadata": {
    "execution": {
     "iopub.execute_input": "2023-12-18T06:15:01.867642Z",
     "iopub.status.busy": "2023-12-18T06:15:01.867253Z",
     "iopub.status.idle": "2023-12-18T06:15:01.878835Z",
     "shell.execute_reply": "2023-12-18T06:15:01.878030Z",
     "shell.execute_reply.started": "2023-12-18T06:15:01.867615Z"
    },
    "papermill": {
     "duration": 4.333282,
     "end_time": "2023-12-11T12:09:46.0985",
     "exception": false,
     "start_time": "2023-12-11T12:09:41.765218",
     "status": "completed"
    },
    "tags": []
   },
   "outputs": [
    {
     "name": "stderr",
     "output_type": "stream",
     "text": [
      "C:\\Users\\7johs\\AppData\\Local\\Temp\\ipykernel_11812\\2739996170.py:4: DeprecationWarning: `import pandas_profiling` is going to be deprecated by April 1st. Please use `import ydata_profiling` instead.\n",
      "  import pandas_profiling as pp\n"
     ]
    }
   ],
   "source": [
    "# Data Wrangling\n",
    "import pandas as pd\n",
    "import numpy as np\n",
    "import pandas_profiling as pp\n",
    "import gzip\n",
    "import gc\n",
    "\n",
    "# Visualization, EDA\n",
    "import missingno as msno\n",
    "import matplotlib.pylab as plt\n",
    "from matplotlib import font_manager, rc\n",
    "import seaborn as sns\n",
    "%matplotlib inline\n",
    "\n",
    "# Korean font\n",
    "#font_name = font_manager.FontProperties(fname=\"c:/Windows/Fonts/malgun.ttf\").get_name()\n",
    "#rc('font', family=font_name)\n",
    "\n",
    "# Preprocessing & Feature Engineering\n",
    "from sklearn.model_selection import train_test_split\n",
    "from sklearn.impute import SimpleImputer \n",
    "from sklearn.preprocessing import LabelEncoder\n",
    "from sklearn.preprocessing import OrdinalEncoder\n",
    "from sklearn.preprocessing import OneHotEncoder\n",
    "from sklearn.preprocessing import MinMaxScaler\n",
    "from sklearn.preprocessing import StandardScaler\n",
    "from sklearn.preprocessing import MinMaxScaler\n",
    "from sklearn.preprocessing import PowerTransformer\n",
    "from sklearn.feature_selection import SelectPercentile\n",
    "\n",
    "# Hyperparameter Optimization\n",
    "from sklearn.model_selection import GridSearchCV\n",
    "from sklearn.model_selection import RandomizedSearchCV\n",
    "import optuna\n",
    "\n",
    "# Modeling\n",
    "from lightgbm import LGBMClassifier\n",
    "from sklearn.dummy import DummyClassifier\n",
    "from sklearn.discriminant_analysis import LinearDiscriminantAnalysis\n",
    "from sklearn.linear_model import LogisticRegression\n",
    "from sklearn.neighbors import KNeighborsClassifier\n",
    "from sklearn.neural_network import MLPClassifier\n",
    "from sklearn.tree import DecisionTreeClassifier\n",
    "from sklearn.svm import SVC\n",
    "from catboost import CatBoostClassifier\n",
    "from xgboost import XGBClassifier\n",
    "from sklearn.ensemble import *\n",
    "from sklearn.ensemble import VotingClassifier\n",
    "from sklearn.ensemble import StackingClassifier\n",
    "from sklearn.ensemble import GradientBoostingClassifier\n",
    "from sklearn.ensemble import RandomForestClassifier\n",
    "from sklearn.base import ClassifierMixin\n",
    "\n",
    "# Evaluation\n",
    "from sklearn.metrics import roc_auc_score\n",
    "from sklearn.metrics import accuracy_score\n",
    "from sklearn.model_selection import cross_val_score\n",
    "\n",
    "from keras.callbacks import ModelCheckpoint\n",
    "\n",
    "# Utility\n",
    "import re\n",
    "import os\n",
    "import time\n",
    "import datetime\n",
    "import random\n",
    "import tensorflow as tf\n",
    "import pickle\n",
    "import joblib\n",
    "import platform\n",
    "import warnings; warnings.filterwarnings(\"ignore\")\n",
    "from itertools import combinations\n",
    "from tqdm import tqdm, tqdm_notebook\n",
    "from IPython.display import Image\n",
    "from scipy.stats.mstats import gmean\n",
    "from tensorflow import keras\n",
    "from PIL import Image\n",
    "from tqdm.auto import trange\n",
    "\n",
    "from sklearn.datasets import make_classification\n",
    "\n",
    "from sklearn.ensemble import BaggingClassifier\n",
    "from sklearn.calibration import CalibratedClassifierCV\n",
    "from sklearn.model_selection import KFold\n",
    "\n",
    "import shap # v2.0부터 추가\n",
    "from featurizer import KMeansFeaturizer # v2.0부터 추가"
   ]
  },
  {
   "cell_type": "markdown",
   "metadata": {
    "papermill": {
     "duration": 0.007391,
     "end_time": "2023-12-11T12:09:46.113997",
     "exception": false,
     "start_time": "2023-12-11T12:09:46.106606",
     "status": "completed"
    },
    "tags": []
   },
   "source": [
    "### Data Loading"
   ]
  },
  {
   "cell_type": "code",
   "execution_count": 2,
   "metadata": {
    "execution": {
     "iopub.execute_input": "2023-12-18T06:15:04.621461Z",
     "iopub.status.busy": "2023-12-18T06:15:04.620715Z",
     "iopub.status.idle": "2023-12-18T06:15:11.328833Z",
     "shell.execute_reply": "2023-12-18T06:15:11.327580Z",
     "shell.execute_reply.started": "2023-12-18T06:15:04.621421Z"
    },
    "papermill": {
     "duration": 9.856697,
     "end_time": "2023-12-11T12:09:55.978973",
     "exception": false,
     "start_time": "2023-12-11T12:09:46.122276",
     "status": "completed"
    },
    "scrolled": true,
    "tags": []
   },
   "outputs": [],
   "source": [
    "train = pd.read_csv('train.csv', encoding='cp949')\n",
    "test = pd.read_csv('test.csv', encoding='cp949')"
   ]
  },
  {
   "cell_type": "markdown",
   "metadata": {
    "papermill": {
     "duration": 0.008288,
     "end_time": "2023-12-11T12:09:56.368685",
     "exception": false,
     "start_time": "2023-12-11T12:09:56.360397",
     "status": "completed"
    },
    "tags": []
   },
   "source": [
    "### 데이터 설명\n",
    "- **패널(Panel) 데이터**\n",
    "  - userID: 패널 ID\n",
    "  - BIRTH: 생일(연도)\n",
    "  - GENDER: 1(남자) 2(여자)\n",
    "  - REGION: 거주지역\n",
    "  - TYPE: 패널 구분\n",
    "  - SQ1 ~ DQ7: 패널 가입 시 설문한 데이터로 각 필드에 대해서는 [상세설명](https://docs.google.com/spreadsheets/d/1pY6MYTSkyHrGLmMTU8tX_xlD8fPut6Ob/edit?usp=sharing&ouid=107121563618260277687&rtpof=true&sd=true) 참조\n",
    "- **설문(Survey) 데이터**\n",
    "  - surveyID: 설문 ID\n",
    "  - TITLE: 설문 제목\n",
    "  - IR: 난이도(응답가능성, 100이 최고)\n",
    "  - LOI: 설문하는데 걸리는 시간 (분단위)\n",
    "  - CATEGORIES: 설문 분류\n",
    "  - CPI: 패널 응답 리워드 포인트(1P~)\n",
    "- **응답(Response) 데이터**\n",
    "  - STATUS: 응답여부 (Target)\n",
    "  - (test 데이터의) ID: submission을 식별하기 위한 ID로 사용"
   ]
  },
  {
   "cell_type": "markdown",
   "metadata": {
    "papermill": {
     "duration": 0.007905,
     "end_time": "2023-12-11T12:09:56.384933",
     "exception": false,
     "start_time": "2023-12-11T12:09:56.377028",
     "status": "completed"
    },
    "tags": []
   },
   "source": [
    "### Feature Preprocessing & Engineering"
   ]
  },
  {
   "cell_type": "code",
   "execution_count": 3,
   "metadata": {
    "execution": {
     "iopub.execute_input": "2023-12-18T06:15:11.331583Z",
     "iopub.status.busy": "2023-12-18T06:15:11.330962Z",
     "iopub.status.idle": "2023-12-18T06:15:11.932110Z",
     "shell.execute_reply": "2023-12-18T06:15:11.930765Z",
     "shell.execute_reply.started": "2023-12-18T06:15:11.331542Z"
    },
    "papermill": {
     "duration": 0.625589,
     "end_time": "2023-12-11T12:09:58.764107",
     "exception": false,
     "start_time": "2023-12-11T12:09:58.138518",
     "status": "completed"
    },
    "tags": []
   },
   "outputs": [],
   "source": [
    "# 거주 주택 유형\n",
    "def handle_profile(x):\n",
    "    if x in ['1', '2', '3', '4', '5', '6']:\n",
    "        return int(x)\n",
    "    elif x in ['1,', '2,', '3,', '4,', '5,', '6,']:\n",
    "        return int(x[0])\n",
    "    else:\n",
    "        return 99\n",
    "\n",
    "train.SQ4 = train.SQ4.apply(handle_profile)\n",
    "test.SQ4 = test.SQ4.apply(handle_profile)"
   ]
  },
  {
   "cell_type": "code",
   "execution_count": 4,
   "metadata": {
    "execution": {
     "iopub.execute_input": "2023-12-18T06:15:11.934803Z",
     "iopub.status.busy": "2023-12-18T06:15:11.934308Z",
     "iopub.status.idle": "2023-12-18T06:15:12.486225Z",
     "shell.execute_reply": "2023-12-18T06:15:12.485042Z",
     "shell.execute_reply.started": "2023-12-18T06:15:11.934762Z"
    },
    "papermill": {
     "duration": 0.553187,
     "end_time": "2023-12-11T12:09:59.386383",
     "exception": false,
     "start_time": "2023-12-11T12:09:58.833196",
     "status": "completed"
    },
    "tags": []
   },
   "outputs": [],
   "source": [
    "# 최종 학력\n",
    "def handle_profile(x):\n",
    "    if x in ['1', '2', '3', '4']:\n",
    "        return int(x)\n",
    "    elif x in ['1.0', '2.0', '3.0', '4.0']:\n",
    "        return int(x[0])\n",
    "    else:\n",
    "        return 99\n",
    "\n",
    "train.SQ5 = train.SQ5.apply(handle_profile)\n",
    "test.SQ5 = test.SQ5.apply(handle_profile)"
   ]
  },
  {
   "cell_type": "code",
   "execution_count": 5,
   "metadata": {
    "execution": {
     "iopub.execute_input": "2023-12-18T06:15:12.489176Z",
     "iopub.status.busy": "2023-12-18T06:15:12.488725Z",
     "iopub.status.idle": "2023-12-18T06:15:13.022392Z",
     "shell.execute_reply": "2023-12-18T06:15:13.021033Z",
     "shell.execute_reply.started": "2023-12-18T06:15:12.489128Z"
    },
    "papermill": {
     "duration": 0.542385,
     "end_time": "2023-12-11T12:09:59.995044",
     "exception": false,
     "start_time": "2023-12-11T12:09:59.452659",
     "status": "completed"
    },
    "tags": []
   },
   "outputs": [],
   "source": [
    "# 결혼 여부\n",
    "def handle_profile(x):\n",
    "    if x in ['1', '2']:\n",
    "        return int(x)\n",
    "    elif x in ['1,', '2,']:\n",
    "        return int(x[0])\n",
    "    else:\n",
    "        return 99\n",
    "\n",
    "train.SQ6 = train.SQ6.apply(handle_profile)\n",
    "test.SQ6 = test.SQ6.apply(handle_profile)"
   ]
  },
  {
   "cell_type": "code",
   "execution_count": 6,
   "metadata": {
    "execution": {
     "iopub.execute_input": "2023-12-18T06:15:13.024608Z",
     "iopub.status.busy": "2023-12-18T06:15:13.024142Z",
     "iopub.status.idle": "2023-12-18T06:15:14.015598Z",
     "shell.execute_reply": "2023-12-18T06:15:14.013775Z",
     "shell.execute_reply.started": "2023-12-18T06:15:13.024569Z"
    },
    "papermill": {
     "duration": 1.000969,
     "end_time": "2023-12-11T12:10:01.13122",
     "exception": false,
     "start_time": "2023-12-11T12:10:00.130251",
     "status": "completed"
    },
    "tags": []
   },
   "outputs": [],
   "source": [
    "# 첫째 자녀의 성별과 연령\n",
    "value1 = pd.Series(range(1,17)).apply(lambda x: str(x)).tolist()\n",
    "value2 = pd.Series(np.arange(1.0,17.0)).apply(lambda x: str(x)).tolist()\n",
    "def handle_profile(x):\n",
    "    if x in value1:\n",
    "        return int(x)\n",
    "    elif x in value2:\n",
    "        return int(x[0])\n",
    "    else:\n",
    "        return 99\n",
    "\n",
    "train.SQ7 = train.SQ7.apply(handle_profile)\n",
    "test.SQ7 = test.SQ7.apply(handle_profile)"
   ]
  },
  {
   "cell_type": "code",
   "execution_count": 7,
   "metadata": {
    "execution": {
     "iopub.execute_input": "2023-12-18T06:15:14.017972Z",
     "iopub.status.busy": "2023-12-18T06:15:14.017608Z",
     "iopub.status.idle": "2023-12-18T06:15:14.503720Z",
     "shell.execute_reply": "2023-12-18T06:15:14.502037Z",
     "shell.execute_reply.started": "2023-12-18T06:15:14.017944Z"
    },
    "papermill": {
     "duration": 0.492537,
     "end_time": "2023-12-11T12:10:01.697006",
     "exception": false,
     "start_time": "2023-12-11T12:10:01.204469",
     "status": "completed"
    },
    "tags": []
   },
   "outputs": [],
   "source": [
    "# 같이 살고 있는 가족 구성원 수\n",
    "def handle_profile(x):\n",
    "    if x in ['1', '2', '3', '4', '5']:\n",
    "        return int(x)\n",
    "    else:\n",
    "        return 99\n",
    "\n",
    "train.SQ8 = train.SQ8.apply(handle_profile)\n",
    "test.SQ8 = test.SQ8.apply(handle_profile)"
   ]
  },
  {
   "cell_type": "code",
   "execution_count": 8,
   "metadata": {
    "execution": {
     "iopub.execute_input": "2023-12-18T06:15:14.505922Z",
     "iopub.status.busy": "2023-12-18T06:15:14.505200Z",
     "iopub.status.idle": "2023-12-18T06:15:15.208862Z",
     "shell.execute_reply": "2023-12-18T06:15:15.207840Z",
     "shell.execute_reply.started": "2023-12-18T06:15:14.505849Z"
    },
    "papermill": {
     "duration": 0.711013,
     "end_time": "2023-12-11T12:10:02.481852",
     "exception": false,
     "start_time": "2023-12-11T12:10:01.770839",
     "status": "completed"
    },
    "tags": []
   },
   "outputs": [],
   "source": [
    "# 최근 1년 이내에 새로 구입하신 가전제품\n",
    "values = pd.Series(range(1,23)).apply(lambda x: str(x)).tolist()\n",
    "def handle_profile(x):    \n",
    "    if x in values:\n",
    "        return int(x)\n",
    "    else:\n",
    "        return 99\n",
    "\n",
    "train.A1 = train.A1.apply(handle_profile)\n",
    "test.A1 = test.A1.apply(handle_profile)"
   ]
  },
  {
   "cell_type": "code",
   "execution_count": 9,
   "metadata": {
    "execution": {
     "iopub.execute_input": "2023-12-18T06:15:15.213273Z",
     "iopub.status.busy": "2023-12-18T06:15:15.212941Z",
     "iopub.status.idle": "2023-12-18T06:15:15.819653Z",
     "shell.execute_reply": "2023-12-18T06:15:15.818426Z",
     "shell.execute_reply.started": "2023-12-18T06:15:15.213247Z"
    },
    "papermill": {
     "duration": 0.55849,
     "end_time": "2023-12-11T12:10:03.111728",
     "exception": false,
     "start_time": "2023-12-11T12:10:02.553238",
     "status": "completed"
    },
    "tags": []
   },
   "outputs": [],
   "source": [
    "# 현재 사용 중인 휴대폰의 인터넷 통신망\n",
    "def handle_profile(x):    \n",
    "    if x in ['1']:\n",
    "        return 2\n",
    "    elif x in ['2', '3']:\n",
    "        return 3\n",
    "    elif x in ['4', '5', '6', '7']:\n",
    "        return 4\n",
    "    elif x in ['8']:\n",
    "        return 5\n",
    "    else:\n",
    "        return 99\n",
    "\n",
    "train.B1 = train.B1.apply(handle_profile)\n",
    "test.B1 = test.B1.apply(handle_profile)"
   ]
  },
  {
   "cell_type": "code",
   "execution_count": 10,
   "metadata": {
    "execution": {
     "iopub.execute_input": "2023-12-18T06:15:15.822221Z",
     "iopub.status.busy": "2023-12-18T06:15:15.821127Z",
     "iopub.status.idle": "2023-12-18T06:15:16.332745Z",
     "shell.execute_reply": "2023-12-18T06:15:16.330521Z",
     "shell.execute_reply.started": "2023-12-18T06:15:15.822181Z"
    },
    "papermill": {
     "duration": 0.512125,
     "end_time": "2023-12-11T12:10:03.696073",
     "exception": false,
     "start_time": "2023-12-11T12:10:03.183948",
     "status": "completed"
    },
    "tags": []
   },
   "outputs": [],
   "source": [
    "# 현재 사용 중인 휴대폰의 이동통신사\n",
    "def handle_profile(x):\n",
    "    if x in ['1', '2', '3', '4', '5', '6']:\n",
    "        return int(x)\n",
    "    else:\n",
    "        return 99\n",
    "\n",
    "train.B2 = train.B2.apply(handle_profile)\n",
    "test.B2 = test.B2.apply(handle_profile)"
   ]
  },
  {
   "cell_type": "code",
   "execution_count": 11,
   "metadata": {
    "execution": {
     "iopub.execute_input": "2023-12-18T06:15:16.337129Z",
     "iopub.status.busy": "2023-12-18T06:15:16.336783Z",
     "iopub.status.idle": "2023-12-18T06:15:16.883948Z",
     "shell.execute_reply": "2023-12-18T06:15:16.882497Z",
     "shell.execute_reply.started": "2023-12-18T06:15:16.337097Z"
    },
    "papermill": {
     "duration": 0.560106,
     "end_time": "2023-12-11T12:10:04.32831",
     "exception": false,
     "start_time": "2023-12-11T12:10:03.768204",
     "status": "completed"
    },
    "tags": []
   },
   "outputs": [],
   "source": [
    "# 현재 사용 중인 휴대폰의 제조사\n",
    "def handle_profile(x):    \n",
    "    if x in ['1', '2', '3']:\n",
    "        return int(x)\n",
    "    elif x in ['1,', '2,', '3,']:\n",
    "        return int(x[0])\n",
    "    elif x in ['99', '99,']:\n",
    "        return 99\n",
    "    else:\n",
    "        return 4  # 기타 제조사\n",
    "\n",
    "train.B3 = train.B3.apply(handle_profile)\n",
    "test.B3 = test.B3.apply(handle_profile)"
   ]
  },
  {
   "cell_type": "code",
   "execution_count": 12,
   "metadata": {
    "execution": {
     "iopub.execute_input": "2023-12-18T06:15:16.885869Z",
     "iopub.status.busy": "2023-12-18T06:15:16.885507Z",
     "iopub.status.idle": "2023-12-18T06:15:17.402204Z",
     "shell.execute_reply": "2023-12-18T06:15:17.401432Z",
     "shell.execute_reply.started": "2023-12-18T06:15:16.885837Z"
    }
   },
   "outputs": [],
   "source": [
    "# 현재 보유하고 사용하고 있는 스마트 기기\n",
    "def handle_profile(x):    \n",
    "    if x != x :\n",
    "        return 0\n",
    "    elif x in ['1', '2', '3', '4', '5', '6', '7' , '99', '97']:\n",
    "        return int(x)\n",
    "    else:\n",
    "        return 98\n",
    "\n",
    "train.B4 = train.B4.apply(handle_profile)\n",
    "test.B4 = test.B4.apply(handle_profile)"
   ]
  },
  {
   "cell_type": "code",
   "execution_count": 13,
   "metadata": {
    "execution": {
     "iopub.execute_input": "2023-12-18T06:15:17.404050Z",
     "iopub.status.busy": "2023-12-18T06:15:17.403336Z",
     "iopub.status.idle": "2023-12-18T06:15:18.002650Z",
     "shell.execute_reply": "2023-12-18T06:15:18.001574Z",
     "shell.execute_reply.started": "2023-12-18T06:15:17.404015Z"
    }
   },
   "outputs": [],
   "source": [
    "# 현재 이용 중인 케이블 TV\n",
    "def handle_profile(x):    \n",
    "    if x != x :\n",
    "        return 0\n",
    "    elif x in ['1', '2', '3', '4' ,'5', '6', '7', '8', '9', '10']:\n",
    "        return int(x)\n",
    "    elif x in ['1,', '2,', '3,', '4,' ,'5,', '6,', '7,', '8,', '9,', '10,']:\n",
    "        return int(x[0])\n",
    "    elif x in ['99', '99,']:\n",
    "        return 99\n",
    "    else:\n",
    "        return 4  # 기타 제조사\n",
    "\n",
    "train.B5 = train.B5.apply(handle_profile)\n",
    "test.B5 = test.B5.apply(handle_profile)"
   ]
  },
  {
   "cell_type": "code",
   "execution_count": 14,
   "metadata": {},
   "outputs": [],
   "source": [
    "# TITLE 피쳐에서 '-' 값을 모두 제거하여 TITLE-test 피쳐 생성\n",
    "train['TITLEtest'] = train['TITLE'].str.replace('-', '')\n",
    "test['TITLEtest'] = test['TITLE'].str.replace('-', '')\n",
    "\n",
    "def assign_group(title):\n",
    "    if 'DR' in title and title.endswith('L'):\n",
    "        return 1\n",
    "    elif 'DR' in title and title.endswith('S'):\n",
    "        return 2                                    \n",
    "    elif 'G' in title:\n",
    "        return 3\n",
    "    elif 'DN' in title:\n",
    "        return 4\n",
    "    elif 'IM' in title:\n",
    "        return 5\n",
    "    elif 'BL' in title:\n",
    "        return 6\n",
    "    elif '소비자' in title or '소비사' in title:\n",
    "        return 7\n",
    "    elif '주류' in title: \n",
    "        return 8\n",
    "    elif '일반국민' in title: \n",
    "        return 9\n",
    "    elif '국민' in title: \n",
    "        return 10\n",
    "    elif '광고' in title: \n",
    "        return 11\n",
    "    elif '서비스' in title: \n",
    "        return 12\n",
    "    elif '외국어' in title: \n",
    "        return 13\n",
    "    elif '해외' not in title and '일반인' in title:\n",
    "        return 14\n",
    "    else:\n",
    "        return 99\n",
    "\n",
    "#조건에 따라 특정 문자열 패턴이 있는지 확인하고, 해당 페턴에 맞는 그룹 번호 할당\n",
    "train['TITLE2'] = train['TITLEtest'].apply(assign_group)\n",
    "test['TITLE2'] = test['TITLEtest'].apply(assign_group)\n",
    "\n",
    "\n",
    "def assign_group(title):\n",
    "    match_dr = re.search(r'DR(\\d)', title)\n",
    "    \n",
    "    if match_dr:\n",
    "        dr_number = int(match_dr.group(1))\n",
    "        last_char = title[-1]\n",
    "        \n",
    "        if last_char == 'L':\n",
    "            return dr_number\n",
    "        elif last_char == 'S':\n",
    "            return dr_number + 10\n",
    "    elif 'G' in title:\n",
    "        return 21\n",
    "    elif 'DN' in title:\n",
    "        return 22\n",
    "    elif 'IM' in title:\n",
    "        return 23\n",
    "    elif 'BL' in title:\n",
    "        return 24\n",
    "    elif '소비자' in title or '소비사' in title:\n",
    "        return 25\n",
    "    elif '주류' in title: \n",
    "        return 26\n",
    "    elif '일반국민' in title: \n",
    "        return 27\n",
    "    elif '국민' in title: \n",
    "        return 28\n",
    "    elif '광고' in title: \n",
    "        return 29\n",
    "    elif '서비스' in title: \n",
    "        return 30\n",
    "    elif '외국어' in title: \n",
    "        return 31\n",
    "    elif '해외' not in title and '일반인' in title:\n",
    "        return 32\n",
    "    else:\n",
    "        return 99\n",
    "\n",
    "# 'DR'로 시작하고 숫자가 뒤따르는 패턴을 찾아 그룹 번호 할당\n",
    "train['TITLE1'] = train['TITLEtest'].apply(assign_group)\n",
    "test['TITLE1'] = test['TITLEtest'].apply(assign_group)\n",
    "\n",
    "# 'TITLEtest' 열을 'train'과 'test' 데이터에서 제거\n",
    "train.drop('TITLEtest', axis=1, inplace=True)\n",
    "test.drop('TITLEtest', axis=1, inplace=True)\n",
    "\n",
    "# 'STATUS'가 1인 경우에 해당하는 'TITLE1' 값의 빈도\n",
    "res_freq = train.query('STATUS == 1').groupby('TITLE1')['TITLE1'].agg([('FREQ', np.size)]).reset_index()\n",
    "# 전체 'TITLE1' 값의 빈도\n",
    "send_freq = train.groupby('TITLE1')['TITLE1'].agg([('SEND', np.size)]).reset_index()\n",
    "train = train.merge(res_freq, how='left').merge(send_freq, how='left')\n",
    "\n",
    "# 'FREQ'를 'SEND'로 나누어 계산한 응답률\n",
    "train['RESRATE_T'] = train['FREQ'] / train['SEND']\n",
    "del train['FREQ'], train['SEND']\n",
    "\n",
    "# 'RESRATE_T'를 'test' 데이터에 추가\n",
    "test = pd.merge(test, train.drop_duplicates(subset=['TITLE1'])[['TITLE1', 'RESRATE_T']], how='left')\n",
    "test['RESRATE_T'] = test['RESRATE_T'].fillna(0)\n",
    "\n",
    "# 'TITLE1' 열 제거\n",
    "train.drop('TITLE1', axis=1, inplace=True)\n",
    "test.drop('TITLE1', axis=1, inplace=True)"
   ]
  },
  {
   "cell_type": "code",
   "execution_count": 15,
   "metadata": {
    "execution": {
     "iopub.execute_input": "2023-12-18T06:15:18.081156Z",
     "iopub.status.busy": "2023-12-18T06:15:18.080894Z",
     "iopub.status.idle": "2023-12-18T06:15:40.505816Z",
     "shell.execute_reply": "2023-12-18T06:15:40.504556Z",
     "shell.execute_reply.started": "2023-12-18T06:15:18.081132Z"
    },
    "papermill": {
     "duration": 22.092481,
     "end_time": "2023-12-11T12:10:26.530545",
     "exception": false,
     "start_time": "2023-12-11T12:10:04.438064",
     "status": "completed"
    },
    "tags": []
   },
   "outputs": [],
   "source": [
    "word_counts = {}\n",
    "\n",
    "# 응답한 서베이 제목에서 한글 단어만 분리하고 빈도 계산\n",
    "def count_word(x):\n",
    "    if x['STATUS'] == 1:\n",
    "        for w in re.sub(r'[^ ㄱ-ㅣ가-힣]', '', x['TITLE']).split():\n",
    "            word_counts[w] = word_counts.get(w, 0) + 1\n",
    "\n",
    "# 빈도의 합으로 제목을 Encoding\n",
    "def score_word(x):\n",
    "    score = 0\n",
    "    for w in re.sub(r'[^ ㄱ-ㅣ가-힣]', '', x['TITLE']).split():\n",
    "        score += word_counts.get(w, 0)\n",
    "    return score    \n",
    "            \n",
    "train.apply(count_word, axis=1)\n",
    "train.TITLE = train.apply(score_word, axis=1)\n",
    "test.TITLE = test.apply(score_word, axis=1)"
   ]
  },
  {
   "cell_type": "code",
   "execution_count": 16,
   "metadata": {
    "execution": {
     "iopub.execute_input": "2023-12-18T06:15:40.507483Z",
     "iopub.status.busy": "2023-12-18T06:15:40.507135Z",
     "iopub.status.idle": "2023-12-18T06:16:00.378022Z",
     "shell.execute_reply": "2023-12-18T06:16:00.376731Z",
     "shell.execute_reply.started": "2023-12-18T06:15:40.507454Z"
    }
   },
   "outputs": [],
   "source": [
    "train[\"CATEGORIES_CNT\"]=0\n",
    "test[\"CATEGORIES_CNT\"]=0\n",
    "\n",
    "train[\"CATEGORIES\"]=train[\"CATEGORIES\"].fillna(\"unknown\")\n",
    "test[\"CATEGORIES\"]=test[\"CATEGORIES\"].fillna(\"unknown\")\n",
    "word_counts = {}\n",
    "\n",
    "# 응답한 서베이 'CATEGORIES'에서 영어 단어만 분리하여 빈도 계산\n",
    "def count_word(x):\n",
    "    if x['STATUS'] == 1:\n",
    "        for w in re.sub(r'[^a-zA-Z]', '', x['CATEGORIES']).split():\n",
    "            word_counts[w] = word_counts.get(w, 0) + 1\n",
    "\n",
    "# 빈도의 합으로 'CATEGORIES_CNT' 열에 저장\n",
    "def score_word(x):\n",
    "    score = 0\n",
    "    for w in re.sub(r'[^a-zA-Z]', '', x['CATEGORIES']).split():\n",
    "        score += word_counts.get(w, 0)\n",
    "    return score    \n",
    "            \n",
    "train.apply(count_word, axis=1)\n",
    "train.CATEGORIES_CNT = train.apply(score_word, axis=1)\n",
    "test.CATEGORIES_CNT = test.apply(score_word, axis=1)"
   ]
  },
  {
   "cell_type": "code",
   "execution_count": 17,
   "metadata": {
    "execution": {
     "iopub.execute_input": "2023-12-18T06:16:00.379686Z",
     "iopub.status.busy": "2023-12-18T06:16:00.379292Z",
     "iopub.status.idle": "2023-12-18T06:16:00.892384Z",
     "shell.execute_reply": "2023-12-18T06:16:00.891176Z",
     "shell.execute_reply.started": "2023-12-18T06:16:00.379650Z"
    }
   },
   "outputs": [],
   "source": [
    "from sklearn.preprocessing import LabelEncoder\n",
    "\n",
    "# 'LabelEncoder' 객체 초기화\n",
    "encoder = LabelEncoder()\n",
    "\n",
    "# 'train' 데이터셋의 'CATEGORIES'열을 사용하여 'LabelEncoder'를 피팅하고, 이를 라벨숫자로 변환\n",
    "encoder.fit(train[\"CATEGORIES\"])\n",
    "train_encoded_cat = encoder.transform(train[\"CATEGORIES\"])\n",
    "\n",
    "# 'test' 데이터셋의 'CATEGORIES' 열에서 새로운 레이블을 확인하고, 이를 'LabelEncoder'에 추가\n",
    "for label in np.unique(test[\"CATEGORIES\"]):\n",
    "    if label not in encoder.classes_: \n",
    "        encoder.classes_ = np.append(encoder.classes_, label)\n",
    "\n",
    "# 'test' 데이터셋의 'CATEGORIES' 열을 라벨숫자로 변환\n",
    "test_encoded_cat = encoder.transform(test[\"CATEGORIES\"])\n",
    "\n",
    "# 변환된 결과를 원래 데이터프레임의 'CATEGORIES'열에 저장\n",
    "train[\"CATEGORIES\"] = pd.DataFrame(train_encoded_cat)\n",
    "test[\"CATEGORIES\"] = pd.DataFrame(test_encoded_cat)\n",
    "\n",
    "del train_encoded_cat, test_encoded_cat"
   ]
  },
  {
   "cell_type": "code",
   "execution_count": 18,
   "metadata": {
    "execution": {
     "iopub.execute_input": "2023-12-18T06:16:00.893863Z",
     "iopub.status.busy": "2023-12-18T06:16:00.893486Z",
     "iopub.status.idle": "2023-12-18T06:16:02.446947Z",
     "shell.execute_reply": "2023-12-18T06:16:02.445714Z",
     "shell.execute_reply.started": "2023-12-18T06:16:00.893831Z"
    },
    "papermill": {
     "duration": 1.463951,
     "end_time": "2023-12-11T12:10:28.005266",
     "exception": false,
     "start_time": "2023-12-11T12:10:26.541315",
     "status": "completed"
    },
    "tags": []
   },
   "outputs": [],
   "source": [
    "# 'STATUS'가 1인 경우를 기준으로 'userID'별 응답 빈도(FREQ)를 계산\n",
    "res_freq = train.query('STATUS == 1').groupby('userID')['userID'].agg([('FREQ',np.size)]).reset_index()\n",
    "# 전체 데이터에서 'userID'별 전체 서베이 횟수(SEND)를 계산\n",
    "send_freq = train.groupby('userID')['userID'].agg([('SEND',np.size)]).reset_index()\n",
    "\n",
    "# 'FREQ'와 'SEND'를 이용해 응답률(RESRATE)를 계산하고, 이를 'train' 데이터셋에 추가\n",
    "train = train.merge(res_freq, how='left').merge(send_freq, how='left')\n",
    "train['RESRATE'] = train['FREQ'] / train['SEND']\n",
    "del train['FREQ'], train['SEND']\n",
    "\n",
    "# 'test'데이터셋에 'train' 데이터셋의 'RESRATE'를 'userID' 기준으로 추가하고, 결측값은 0으로 채움\n",
    "test = pd.merge(test, train.drop_duplicates(subset=['userID'])[['userID', 'RESRATE']], how='left')\n",
    "test['RESRATE'] = test['RESRATE'].fillna(0) "
   ]
  },
  {
   "cell_type": "code",
   "execution_count": 19,
   "metadata": {},
   "outputs": [],
   "source": [
    "# 'STATUS'가 1인 경우를 기준으로 'surveyID'별 응답 빈도(FREQ)를 계산\n",
    "res_freq = train.query('STATUS == 1').groupby('surveyID')['surveyID'].agg([('FREQ', np.size)]).reset_index()\n",
    "# 전체 데이터에서 'survey'별 전체 서베이 횟수(SEND)를 계산\n",
    "send_freq = train.groupby('surveyID')['surveyID'].agg([('SEND', np.size)]).reset_index()\n",
    "\n",
    "# 'FREQ'와 'SEND'를 이용해 응답률(RESRATE_S)를 계산하고, 이를 'train' 데이터셋에 추가\n",
    "train = train.merge(res_freq, how='left').merge(send_freq, how='left')\n",
    "train['RESRATE_S'] = train['FREQ'] / train['SEND']\n",
    "del train['FREQ'], train['SEND']\n",
    "\n",
    "# 'test'데이터셋에 'train' 데이터셋의 'RESRATE_S'를 'surveyID' 기준으로 추가하고, 결측값은 0으로 채움\n",
    "test = pd.merge(test, train.drop_duplicates(subset=['surveyID'])[['surveyID', 'RESRATE_S']], how='left')\n",
    "test['RESRATE_S'] = test['RESRATE_S'].fillna(0)"
   ]
  },
  {
   "cell_type": "code",
   "execution_count": 20,
   "metadata": {
    "execution": {
     "iopub.execute_input": "2023-12-18T06:17:14.997314Z",
     "iopub.status.busy": "2023-12-18T06:17:14.996841Z",
     "iopub.status.idle": "2023-12-18T06:17:15.292345Z",
     "shell.execute_reply": "2023-12-18T06:17:15.290989Z",
     "shell.execute_reply.started": "2023-12-18T06:17:14.997276Z"
    }
   },
   "outputs": [],
   "source": [
    "#IR별 응답률\n",
    "train_IR = ((train.groupby('IR')['STATUS'].sum())/(train.IR.value_counts().sort_index())).reset_index().rename(columns = {0 : 'STATUS_ratio_IR'})\n",
    "train = train.merge(train_IR,how='left')\n",
    "test = test.merge(train_IR,how='left')"
   ]
  },
  {
   "cell_type": "code",
   "execution_count": 21,
   "metadata": {
    "execution": {
     "iopub.execute_input": "2023-12-18T06:17:15.535373Z",
     "iopub.status.busy": "2023-12-18T06:17:15.534959Z",
     "iopub.status.idle": "2023-12-18T06:17:15.915044Z",
     "shell.execute_reply": "2023-12-18T06:17:15.913666Z",
     "shell.execute_reply.started": "2023-12-18T06:17:15.535335Z"
    }
   },
   "outputs": [],
   "source": [
    "#LOI별 응답률\n",
    "train_LOI = ((train.groupby('LOI')['STATUS'].sum())/(train.LOI.value_counts().sort_index())).reset_index().rename(columns = {0 : 'STATUS_ratio_LOI'})\n",
    "train = train.merge(train_LOI,how='left')\n",
    "test = test.merge(train_LOI,how='left')"
   ]
  },
  {
   "cell_type": "code",
   "execution_count": 22,
   "metadata": {
    "execution": {
     "iopub.execute_input": "2023-12-18T06:17:15.917971Z",
     "iopub.status.busy": "2023-12-18T06:17:15.916856Z",
     "iopub.status.idle": "2023-12-18T06:17:16.307342Z",
     "shell.execute_reply": "2023-12-18T06:17:16.305632Z",
     "shell.execute_reply.started": "2023-12-18T06:17:15.917930Z"
    }
   },
   "outputs": [],
   "source": [
    "#CPI 별 응답률\n",
    "train_CPI = ((train.groupby('CPI')['STATUS'].sum())/(train.CPI.value_counts().sort_index())).reset_index().rename(columns = {0 : 'STATUS_ratio_CPI'})\n",
    "train = train.merge(train_CPI,how='left')\n",
    "test = test.merge(train_CPI,how='left')"
   ]
  },
  {
   "cell_type": "code",
   "execution_count": 23,
   "metadata": {
    "execution": {
     "iopub.execute_input": "2023-12-18T06:17:16.309762Z",
     "iopub.status.busy": "2023-12-18T06:17:16.309373Z",
     "iopub.status.idle": "2023-12-18T06:17:16.788800Z",
     "shell.execute_reply": "2023-12-18T06:17:16.787396Z",
     "shell.execute_reply.started": "2023-12-18T06:17:16.309733Z"
    }
   },
   "outputs": [],
   "source": [
    "#TYPE 별 응답률\n",
    "train_TYPE = ((train.groupby('TYPE')['STATUS'].sum())/(train.TYPE.value_counts().sort_index())).reset_index().rename(columns = {0 : 'STATUS_ratio_TYPE'})\n",
    "train = train.merge(train_TYPE,how='left')\n",
    "test = test.merge(train_TYPE,how='left')"
   ]
  },
  {
   "cell_type": "code",
   "execution_count": 24,
   "metadata": {
    "execution": {
     "iopub.execute_input": "2023-12-18T06:17:16.791786Z",
     "iopub.status.busy": "2023-12-18T06:17:16.791412Z",
     "iopub.status.idle": "2023-12-18T06:17:17.179448Z",
     "shell.execute_reply": "2023-12-18T06:17:17.178368Z",
     "shell.execute_reply.started": "2023-12-18T06:17:16.791754Z"
    }
   },
   "outputs": [],
   "source": [
    "#BIRTH 별 응답률\n",
    "train_BIRTH = ((train.groupby('BIRTH')['STATUS'].sum())/(train.BIRTH.value_counts().sort_index())).reset_index().rename(columns = {0 : 'STATUS_ratio_BIRTH'})\n",
    "train = train.merge(train_BIRTH,how='left')\n",
    "test = test.merge(train_BIRTH,how='left')\n"
   ]
  },
  {
   "cell_type": "code",
   "execution_count": 25,
   "metadata": {
    "execution": {
     "iopub.execute_input": "2023-12-18T06:17:17.181149Z",
     "iopub.status.busy": "2023-12-18T06:17:17.180811Z",
     "iopub.status.idle": "2023-12-18T06:17:17.568023Z",
     "shell.execute_reply": "2023-12-18T06:17:17.566575Z",
     "shell.execute_reply.started": "2023-12-18T06:17:17.181115Z"
    }
   },
   "outputs": [],
   "source": [
    "#REGION 별 응답률\n",
    "train_REGION = ((train.groupby('REGION')['STATUS'].sum())/(train.REGION.value_counts().sort_index())).reset_index().rename(columns = {0 : 'STATUS_ratio_REGION'})\n",
    "train = train.merge(train_REGION,how='left')\n",
    "test = test.merge(train_REGION,how='left')"
   ]
  },
  {
   "cell_type": "code",
   "execution_count": 26,
   "metadata": {
    "execution": {
     "iopub.execute_input": "2023-12-18T06:17:17.573872Z",
     "iopub.status.busy": "2023-12-18T06:17:17.573462Z",
     "iopub.status.idle": "2023-12-18T06:17:17.965585Z",
     "shell.execute_reply": "2023-12-18T06:17:17.963623Z",
     "shell.execute_reply.started": "2023-12-18T06:17:17.573840Z"
    }
   },
   "outputs": [],
   "source": [
    "#성별 응답률\n",
    "train_GENDER = ((train.groupby('GENDER')['STATUS'].sum())/(train.GENDER.value_counts().sort_index())).reset_index().rename(columns = {0 : 'STATUS_ratio_GENDER'})\n",
    "train = train.merge(train_GENDER,how='left')\n",
    "test = test.merge(train_GENDER,how='left')"
   ]
  },
  {
   "cell_type": "code",
   "execution_count": 27,
   "metadata": {
    "execution": {
     "iopub.execute_input": "2023-12-18T06:17:17.967995Z",
     "iopub.status.busy": "2023-12-18T06:17:17.967510Z",
     "iopub.status.idle": "2023-12-18T06:17:18.360599Z",
     "shell.execute_reply": "2023-12-18T06:17:18.359598Z",
     "shell.execute_reply.started": "2023-12-18T06:17:17.967953Z"
    }
   },
   "outputs": [],
   "source": [
    "#유저 아이디별 응답 횟수\n",
    "res_cnt = train[train.STATUS== 1].groupby(\"userID\").surveyID.count()\n",
    "train[\"res_cnt\"] = train[\"userID\"].map(dict(res_cnt))\n",
    "test[\"res_cnt\"] = test[\"userID\"].map(dict(res_cnt))\n",
    "\n",
    "test[\"res_cnt\"] = test[\"res_cnt\"].fillna(0)"
   ]
  },
  {
   "cell_type": "code",
   "execution_count": 28,
   "metadata": {},
   "outputs": [],
   "source": [
    "#survey 아이디별 응답 횟수\n",
    "res_cnt = train[train.STATUS== 1].groupby(\"surveyID\").userID.count()\n",
    "train[\"res_cnt_survey\"] = train[\"surveyID\"].map(dict(res_cnt))\n",
    "test[\"res_cnt_survey\"] = test[\"surveyID\"].map(dict(res_cnt))\n",
    "\n",
    "test[\"res_cnt_survey\"] = test[\"res_cnt_survey\"].fillna(0)"
   ]
  },
  {
   "cell_type": "code",
   "execution_count": 29,
   "metadata": {
    "execution": {
     "iopub.execute_input": "2023-12-18T06:17:18.362600Z",
     "iopub.status.busy": "2023-12-18T06:17:18.361813Z",
     "iopub.status.idle": "2023-12-18T06:17:19.594260Z",
     "shell.execute_reply": "2023-12-18T06:17:19.593189Z",
     "shell.execute_reply.started": "2023-12-18T06:17:18.362573Z"
    }
   },
   "outputs": [],
   "source": [
    "# 패널 ID 별 획득 누적 포인트\n",
    "Points_earned = pd.DataFrame(train.query('STATUS==1').groupby('userID')['CPI'].agg([('Points_earned',np.sum)])).reset_index()\n",
    "\n",
    "# 패널 ID 별 획득 평균 포인트\n",
    "Points_earned_mean = pd.DataFrame(train.query('STATUS==1').groupby('userID')['CPI'].agg([('Points_earned_mean',np.mean)])).reset_index()\n",
    "\n",
    "train = train.merge(Points_earned, how='left')\n",
    "test = test.merge(Points_earned, how='left')\n",
    "\n",
    "train = train.merge(Points_earned_mean, how='left')\n",
    "test = test.merge(Points_earned_mean, how='left')\n",
    "\n",
    "test['Points_earned'].fillna(0, inplace = True) \n",
    "test['Points_earned_mean'].fillna(0, inplace = True)"
   ]
  },
  {
   "cell_type": "code",
   "execution_count": 30,
   "metadata": {
    "execution": {
     "iopub.execute_input": "2023-12-18T06:17:19.596617Z",
     "iopub.status.busy": "2023-12-18T06:17:19.596352Z",
     "iopub.status.idle": "2023-12-18T06:17:19.604948Z",
     "shell.execute_reply": "2023-12-18T06:17:19.603381Z",
     "shell.execute_reply.started": "2023-12-18T06:17:19.596595Z"
    }
   },
   "outputs": [],
   "source": [
    "train[\"AGE\"] = 2022- train[\"BIRTH\"]\n",
    "test[\"AGE\"] = 2022- test[\"BIRTH\"]"
   ]
  },
  {
   "cell_type": "code",
   "execution_count": 31,
   "metadata": {
    "execution": {
     "iopub.execute_input": "2023-12-18T06:17:19.606483Z",
     "iopub.status.busy": "2023-12-18T06:17:19.606262Z",
     "iopub.status.idle": "2023-12-18T06:17:19.648007Z",
     "shell.execute_reply": "2023-12-18T06:17:19.646366Z",
     "shell.execute_reply.started": "2023-12-18T06:17:19.606461Z"
    }
   },
   "outputs": [],
   "source": [
    "bins = [10, 20, 30, 40, 50, 60, 70, 80, 90,100]\n",
    "labels = ['10', '20', '30', '40', '50', '60', '70', '80','90']\n",
    "\n",
    "#연령대\n",
    "train['Age_Group'] = pd.cut(train['AGE'], bins=bins, labels=labels, right=False)\n",
    "test['Age_Group'] = pd.cut(train['AGE'], bins=bins, labels=labels, right=False)\n",
    "\n",
    "train['Age_Group'] = train['Age_Group'].astype('int')\n",
    "test['Age_Group'] = test['Age_Group'].astype('int') "
   ]
  },
  {
   "cell_type": "code",
   "execution_count": 32,
   "metadata": {
    "execution": {
     "iopub.execute_input": "2023-12-18T06:17:19.649609Z",
     "iopub.status.busy": "2023-12-18T06:17:19.649380Z",
     "iopub.status.idle": "2023-12-18T06:17:21.471652Z",
     "shell.execute_reply": "2023-12-18T06:17:21.470325Z",
     "shell.execute_reply.started": "2023-12-18T06:17:19.649588Z"
    }
   },
   "outputs": [],
   "source": [
    "# GENDER별 CPI 통계 정보 생성\n",
    "GENDER_CPI = pd.DataFrame(train.query('STATUS==1').groupby('GENDER')['CPI'].agg([\n",
    "    ('GENDER_TOT_CPI', lambda x: np.sum(x)),\n",
    "    ('GENDER_AVG_CPI', lambda x: np.mean(x)),\n",
    "    ('GENDER_MIN_CPI', lambda x: np.min(x)),\n",
    "    ('GENDER_MAX_CPI', lambda x: np.max(x))])).reset_index()\n",
    "\n",
    "# GENDER별 LOI 통계 정보 생성\n",
    "GENDER_LOI = pd.DataFrame(train.query('STATUS==1').groupby('GENDER')['LOI'].agg([\n",
    "    ('GENDER_TOT_LOI', lambda x: np.sum(x)),\n",
    "    ('GENDER_AVG_LOI', lambda x: np.mean(x)),\n",
    "    ('GENDER_MIN_LOI', lambda x: np.min(x)),\n",
    "    ('GENDER_MAX_LOI', lambda x: np.max(x))\n",
    "])).reset_index()\n",
    "\n",
    "# GENDER별 IR 통계 정보 생성\n",
    "GENDER_IR = pd.DataFrame(train.query('STATUS==1').groupby('GENDER')['IR'].agg([\n",
    "    ('GENDER_TOT_IR', lambda x: np.sum(x)),\n",
    "    ('GENDER_AVG_IR', lambda x: np.mean(x)),\n",
    "    ('GENDER_MIN_IR', lambda x: np.min(x)),\n",
    "    ('GENDER_MAX_IR', lambda x: np.max(x))\n",
    "])).reset_index()\n",
    "\n",
    "train = train.merge(GENDER_CPI, how='left').merge(GENDER_LOI, how='left').merge(GENDER_IR, how='left')\n",
    "test = test.merge(GENDER_CPI, how='left').merge(GENDER_LOI, how='left').merge(GENDER_IR, how='left')"
   ]
  },
  {
   "cell_type": "code",
   "execution_count": 33,
   "metadata": {
    "execution": {
     "iopub.execute_input": "2023-12-18T06:17:21.473795Z",
     "iopub.status.busy": "2023-12-18T06:17:21.473432Z",
     "iopub.status.idle": "2023-12-18T06:17:23.370035Z",
     "shell.execute_reply": "2023-12-18T06:17:23.368269Z",
     "shell.execute_reply.started": "2023-12-18T06:17:21.473765Z"
    }
   },
   "outputs": [],
   "source": [
    "# REGION별 CPI 통계 정보 생성\n",
    "REGION_CPI = pd.DataFrame(train.query('STATUS==1').groupby('REGION')['CPI'].agg([\n",
    "    ('REGION_TOT_CPI', lambda x: np.sum(x)),\n",
    "    ('REGION_AVG_CPI', lambda x: np.mean(x)),\n",
    "    ('REGION_MIN_CPI', lambda x: np.min(x)),\n",
    "    ('REGION_MAX_CPI', lambda x: np.max(x))])).reset_index()\n",
    "\n",
    "# REGION별 LOI 통계 정보 생성\n",
    "REGION_LOI = pd.DataFrame(train.query('STATUS==1').groupby('REGION')['LOI'].agg([\n",
    "    ('REGION_TOT_LOI', lambda x: np.sum(x)),\n",
    "    ('REGION_AVG_LOI', lambda x: np.mean(x)),\n",
    "    ('REGION_MIN_LOI', lambda x: np.min(x)),\n",
    "    ('REGION_MAX_LOI', lambda x: np.max(x))\n",
    "])).reset_index()\n",
    "\n",
    "# REGION별 IR 통계 정보 생성\n",
    "REGION_IR = pd.DataFrame(train.query('STATUS==1').groupby('REGION')['IR'].agg([\n",
    "    ('REGION_TOT_IR', lambda x: np.sum(x)),\n",
    "    ('REGION_AVG_IR', lambda x: np.mean(x)),\n",
    "    ('REGION_MIN_IR', lambda x: np.min(x)),\n",
    "    ('REGION_MAX_IR', lambda x: np.max(x))\n",
    "])).reset_index()\n",
    "\n",
    "train = train.merge(REGION_CPI, how='left').merge(REGION_LOI, how='left').merge(REGION_IR, how='left')\n",
    "test = test.merge(REGION_CPI, how='left').merge(REGION_LOI, how='left').merge(REGION_IR, how='left')"
   ]
  },
  {
   "cell_type": "code",
   "execution_count": 34,
   "metadata": {
    "execution": {
     "iopub.execute_input": "2023-12-18T06:17:23.371565Z",
     "iopub.status.busy": "2023-12-18T06:17:23.371267Z",
     "iopub.status.idle": "2023-12-18T06:17:25.445374Z",
     "shell.execute_reply": "2023-12-18T06:17:25.444213Z",
     "shell.execute_reply.started": "2023-12-18T06:17:23.371541Z"
    }
   },
   "outputs": [],
   "source": [
    "# TYPE별 CPI 통계 정보 생성\n",
    "TYPE_CPI = pd.DataFrame(train.query('STATUS==1').groupby('TYPE')['CPI'].agg([\n",
    "    ('TYPE_TOT_CPI', lambda x: np.sum(x)),\n",
    "    ('TYPE_AVG_CPI', lambda x: np.mean(x)),\n",
    "    ('TYPE_MIN_CPI', lambda x: np.min(x)),\n",
    "    ('TYPE_MAX_CPI', lambda x: np.max(x))])).reset_index()\n",
    "\n",
    "# TYPE별 LOI 통계 정보 생성\n",
    "TYPE_LOI = pd.DataFrame(train.query('STATUS==1').groupby('TYPE')['LOI'].agg([\n",
    "    ('TYPE_TOT_LOI', lambda x: np.sum(x)),\n",
    "    ('TYPE_AVG_LOI', lambda x: np.mean(x)),\n",
    "    ('TYPE_MIN_LOI', lambda x: np.min(x)),\n",
    "    ('TYPE_MAX_LOI', lambda x: np.max(x))\n",
    "])).reset_index()\n",
    "\n",
    "# TYPE별 IR 통계 정보 생성\n",
    "TYPE_IR = pd.DataFrame(train.query('STATUS==1').groupby('TYPE')['IR'].agg([\n",
    "    ('TYPE_TOT_IR', lambda x: np.sum(x)),\n",
    "    ('TYPE_AVG_IR', lambda x: np.mean(x)),\n",
    "    ('TYPE_MIN_IR', lambda x: np.min(x)),\n",
    "    ('TYPE_MAX_IR', lambda x: np.max(x))\n",
    "])).reset_index()\n",
    "\n",
    "train = train.merge(TYPE_CPI, how='left').merge(TYPE_LOI, how='left').merge(TYPE_IR, how='left')\n",
    "test = test.merge(TYPE_CPI, how='left').merge(TYPE_LOI, how='left').merge(TYPE_IR, how='left')"
   ]
  },
  {
   "cell_type": "code",
   "execution_count": 35,
   "metadata": {
    "execution": {
     "iopub.execute_input": "2023-12-18T06:17:25.448804Z",
     "iopub.status.busy": "2023-12-18T06:17:25.448060Z",
     "iopub.status.idle": "2023-12-18T06:17:27.706179Z",
     "shell.execute_reply": "2023-12-18T06:17:27.705093Z",
     "shell.execute_reply.started": "2023-12-18T06:17:25.448769Z"
    }
   },
   "outputs": [],
   "source": [
    "# AGE_Group별 CPI 통계 정보 생성\n",
    "Age_Group_CPI = pd.DataFrame(train.query('STATUS==1').groupby('Age_Group')['CPI'].agg([\n",
    "    ('Age_Group_TOT_CPI', lambda x: np.sum(x)),\n",
    "    ('Age_Group_AVG_CPI', lambda x: np.mean(x)),\n",
    "    ('Age_Group_MIN_CPI', lambda x: np.min(x)),\n",
    "    ('Age_Group_MAX_CPI', lambda x: np.max(x))])).reset_index()\n",
    "\n",
    "# AGE_Group별 LOI 통계 정보 생성\n",
    "Age_Group_LOI = pd.DataFrame(train.query('STATUS==1').groupby('Age_Group')['LOI'].agg([\n",
    "    ('Age_Group_TOT_LOI', lambda x: np.sum(x)),\n",
    "    ('Age_Group_AVG_LOI', lambda x: np.mean(x)),\n",
    "    ('Age_Group_MIN_LOI', lambda x: np.min(x)),\n",
    "    ('Age_Group_MAX_LOI', lambda x: np.max(x))\n",
    "])).reset_index()\n",
    "\n",
    "# AGE_Group별 IR 통계 정보 생성\n",
    "Age_Group_IR = pd.DataFrame(train.query('STATUS==1').groupby('Age_Group')['IR'].agg([\n",
    "    ('Age_Group_TOT_IR', lambda x: np.sum(x)),\n",
    "    ('Age_Group_AVG_IR', lambda x: np.mean(x)),\n",
    "    ('Age_Group_MIN_IR', lambda x: np.min(x)),\n",
    "    ('Age_Group_MAX_IR', lambda x: np.max(x))\n",
    "])).reset_index()\n",
    "\n",
    "train = train.merge(Age_Group_CPI, how='left').merge(Age_Group_LOI, how='left').merge(Age_Group_IR, how='left')\n",
    "test = test.merge(Age_Group_CPI, how='left').merge(Age_Group_LOI, how='left').merge(Age_Group_IR, how='left')"
   ]
  },
  {
   "cell_type": "code",
   "execution_count": 36,
   "metadata": {},
   "outputs": [
    {
     "data": {
      "image/png": "[encoded data removed]",
      "text/plain": [
       "<Figure size 640x480 with 1 Axes>"
      ]
     },
     "metadata": {},
     "output_type": "display_data"
    }
   ],
   "source": [
    "from sklearn.cluster import KMeans\n",
    "from sklearn.metrics import silhouette_score\n",
    "\n",
    "# 'surveyID'와 'STATUS'열을 선택하여 데이터셋 생성\n",
    "data = train[['surveyID', 'STATUS']]\n",
    "\n",
    "# 'surveyID'별로 평균 'STATUS' 계산\n",
    "data = data.groupby(['surveyID']).mean()\n",
    "\n",
    "# 'STATUS' 값을 numpy 배열로 변환 및 재구성\n",
    "arr = data['STATUS'].to_numpy().reshape(-1, 1)\n",
    "\n",
    "# Silhouette 계수를 계산하여 최적의 군집 개수를 찾기 위한 준비\n",
    "silhouette_scores = []\n",
    "k_range = range(2, 11) \n",
    "\n",
    "# 각 k값에 대해 KMeans 군집화 및 Silhouette 계수 계산\n",
    "for k in k_range:\n",
    "    kmeans = KMeans(n_clusters=k, n_init=10)\n",
    "    cluster_labels = kmeans.fit_predict(arr)\n",
    "    silhouette_scores.append(silhouette_score(arr, cluster_labels))\n",
    "\n",
    "# 최적의 군집 개수를 가진 인덱스를 찾음\n",
    "optimal_k_index = silhouette_scores.index(max(silhouette_scores))\n",
    "optimal_k = k_range[optimal_k_index]\n",
    "\n",
    "# 최적의 k 지점에 빨간색 점선을 그림\n",
    "plt.axvline(x=optimal_k, color='red', linestyle='--', label=f'Optimal k: {optimal_k}')\n",
    "\n",
    "# Silhouette 계수를 그래프로 표시\n",
    "plt.plot(k_range, silhouette_scores, marker='o')\n",
    "plt.xlabel('Number of Clusters (k)')\n",
    "plt.ylabel('Silhouette Score')\n",
    "plt.title('Silhouette Score for Optimal k')\n",
    "plt.xticks(k_range)\n",
    "plt.legend()\n",
    "plt.show()"
   ]
  },
  {
   "cell_type": "code",
   "execution_count": 37,
   "metadata": {},
   "outputs": [],
   "source": [
    "# 최적의 군집 개수로 KMeans 군집화 진행\n",
    "optimal_k =  2\n",
    "kmeans = KMeans(n_clusters=optimal_k, n_init=10)\n",
    "kmeans.fit(arr)\n",
    "\n",
    "# 클러스터 중심을 기준으로 군집의 순서를 정렬하기 위해 인덱스를 추출\n",
    "sort_order = np.argsort(kmeans.cluster_centers_.flatten())\n",
    "\n",
    "# 군집화 결과를 클러스터 중심 값 순서대로 재할당\n",
    "labels = np.zeros_like(kmeans.labels_)\n",
    "for i, cluster in enumerate(sort_order):\n",
    "    labels[kmeans.labels_ == cluster] = i\n",
    "\n",
    "# 군집화 결과를 데이터에 추가\n",
    "data['cluster_1'] = labels\n",
    "data = data.reset_index()\n",
    "data = data[['surveyID', 'cluster_1']]\n",
    "\n",
    "# `train` 데이터셋에 군집화 결과를 병합\n",
    "train= pd.merge(train, data, how='left', left_on='surveyID', right_on='surveyID')\n",
    "# `test` 데이터셋에 군집화 결과를 병합\n",
    "test= pd.merge(test, data, how='left', left_on='surveyID', right_on='surveyID')"
   ]
  },
  {
   "cell_type": "code",
   "execution_count": 38,
   "metadata": {},
   "outputs": [
    {
     "data": {
      "image/png": "[encoded data removed]",
      "text/plain": [
       "<Figure size 640x480 with 1 Axes>"
      ]
     },
     "metadata": {},
     "output_type": "display_data"
    }
   ],
   "source": [
    "from sklearn.cluster import KMeans\n",
    "from sklearn.metrics import silhouette_score\n",
    "\n",
    "# 'userID'와 'STATUS'열을 선택하여 데이터셋 생성\n",
    "data = train[['userID', 'STATUS']]\n",
    "\n",
    "# 'userID'별로 평균 'STATUS' 계산\n",
    "data = data.groupby(['userID']).mean()\n",
    "\n",
    "arr = data['STATUS'].to_numpy().reshape(-1, 1)\n",
    "\n",
    "silhouette_scores = []\n",
    "k_range = range(2, 11) \n",
    "\n",
    "for k in k_range:\n",
    "    kmeans = KMeans(n_clusters=k, n_init=10)\n",
    "    cluster_labels = kmeans.fit_predict(arr)\n",
    "    silhouette_scores.append(silhouette_score(arr, cluster_labels))\n",
    "\n",
    "optimal_k_index = silhouette_scores.index(max(silhouette_scores))\n",
    "optimal_k = k_range[optimal_k_index]\n",
    "\n",
    "plt.axvline(x=optimal_k, color='red', linestyle='--', label=f'Optimal k: {optimal_k}')\n",
    "\n",
    "plt.plot(k_range, silhouette_scores, marker='o')\n",
    "plt.xlabel('Number of Clusters (k)')\n",
    "plt.ylabel('Silhouette Score')\n",
    "plt.title('Silhouette Score for Optimal k')\n",
    "plt.xticks(k_range)\n",
    "plt.legend()\n",
    "plt.show()"
   ]
  },
  {
   "cell_type": "code",
   "execution_count": 39,
   "metadata": {},
   "outputs": [],
   "source": [
    "optimal_k =  2\n",
    "kmeans = KMeans(n_clusters=optimal_k, n_init=10)\n",
    "kmeans.fit(arr)\n",
    "\n",
    "sort_order = np.argsort(kmeans.cluster_centers_.flatten())\n",
    "\n",
    "labels = np.zeros_like(kmeans.labels_)\n",
    "for i, cluster in enumerate(sort_order):\n",
    "    labels[kmeans.labels_ == cluster] = i\n",
    "\n",
    "data['cluster_2'] = labels\n",
    "data = data.reset_index()\n",
    "data = data[['userID', 'cluster_2']]\n",
    "\n",
    "train= pd.merge(train, data, how='left', left_on='userID', right_on='userID')\n",
    "test= pd.merge(test, data, how='left', left_on='userID', right_on='userID')"
   ]
  },
  {
   "cell_type": "code",
   "execution_count": 40,
   "metadata": {},
   "outputs": [
    {
     "data": {
      "image/png": "[encoded data removed]",
      "text/plain": [
       "<Figure size 640x480 with 1 Axes>"
      ]
     },
     "metadata": {},
     "output_type": "display_data"
    }
   ],
   "source": [
    "from sklearn.cluster import KMeans\n",
    "from sklearn.metrics import silhouette_score\n",
    "\n",
    "# 'REGION'과 'STATUS'열을 선택하여 데이터셋 생성\n",
    "data = train[['REGION', 'STATUS']]\n",
    "\n",
    "# 'REGION'별로 평균 'STATUS' 계산\n",
    "data = data.groupby(['REGION']).mean()\n",
    "\n",
    "arr = data['STATUS'].to_numpy().reshape(-1, 1)\n",
    "\n",
    "silhouette_scores = []\n",
    "k_range = range(2, 11) \n",
    "\n",
    "for k in k_range:\n",
    "    kmeans = KMeans(n_clusters=k, n_init=10)\n",
    "    cluster_labels = kmeans.fit_predict(arr)\n",
    "    silhouette_scores.append(silhouette_score(arr, cluster_labels))\n",
    "\n",
    "optimal_k_index = silhouette_scores.index(max(silhouette_scores))\n",
    "optimal_k = k_range[optimal_k_index]\n",
    "\n",
    "plt.axvline(x=optimal_k, color='red', linestyle='--', label=f'Optimal k: {optimal_k}')\n",
    "\n",
    "plt.plot(k_range, silhouette_scores, marker='o')\n",
    "plt.xlabel('Number of Clusters (k)')\n",
    "plt.ylabel('Silhouette Score')\n",
    "plt.title('Silhouette Score for Optimal k')\n",
    "plt.xticks(k_range)\n",
    "plt.legend()\n",
    "plt.show()"
   ]
  },
  {
   "cell_type": "code",
   "execution_count": 41,
   "metadata": {},
   "outputs": [],
   "source": [
    "optimal_k = 4\n",
    "kmeans = KMeans(n_clusters=optimal_k, n_init=10)\n",
    "kmeans.fit(arr)\n",
    "\n",
    "sort_order = np.argsort(kmeans.cluster_centers_.flatten())\n",
    "\n",
    "labels = np.zeros_like(kmeans.labels_)\n",
    "for i, cluster in enumerate(sort_order):\n",
    "    labels[kmeans.labels_ == cluster] = i\n",
    "\n",
    "data['cluster_3'] = labels\n",
    "data = data.reset_index()\n",
    "data = data[['REGION', 'cluster_3']]\n",
    "\n",
    "train= pd.merge(train, data, how='left', left_on='REGION', right_on='REGION')\n",
    "test= pd.merge(test, data, how='left', left_on='REGION', right_on='REGION')"
   ]
  },
  {
   "cell_type": "code",
   "execution_count": 42,
   "metadata": {},
   "outputs": [
    {
     "data": {
      "image/png": "[encoded data removed]",
      "text/plain": [
       "<Figure size 640x480 with 1 Axes>"
      ]
     },
     "metadata": {},
     "output_type": "display_data"
    }
   ],
   "source": [
    "from sklearn.cluster import KMeans\n",
    "from sklearn.metrics import silhouette_score\n",
    "\n",
    "# 'IR'과 'STATUS'열을 선택하여 데이터셋 생성\n",
    "data = train[['IR', 'STATUS']]\n",
    "\n",
    "# 'IR'별로 평균 'STATUS' 계산\n",
    "data = data.groupby(['IR']).mean()\n",
    "\n",
    "arr = data['STATUS'].to_numpy().reshape(-1, 1)\n",
    "\n",
    "silhouette_scores = []\n",
    "k_range = range(2, 11) \n",
    "\n",
    "for k in k_range:\n",
    "    kmeans = KMeans(n_clusters=k, n_init=10)\n",
    "    cluster_labels = kmeans.fit_predict(arr)\n",
    "    silhouette_scores.append(silhouette_score(arr, cluster_labels))\n",
    "\n",
    "optimal_k_index = silhouette_scores.index(max(silhouette_scores))\n",
    "optimal_k = k_range[optimal_k_index]\n",
    "\n",
    "plt.axvline(x=optimal_k, color='red', linestyle='--', label=f'Optimal k: {optimal_k}')\n",
    "\n",
    "plt.plot(k_range, silhouette_scores, marker='o')\n",
    "plt.xlabel('Number of Clusters (k)')\n",
    "plt.ylabel('Silhouette Score')\n",
    "plt.title('Silhouette Score for Optimal k')\n",
    "plt.xticks(k_range)\n",
    "plt.legend()\n",
    "plt.show()"
   ]
  },
  {
   "cell_type": "code",
   "execution_count": 43,
   "metadata": {},
   "outputs": [],
   "source": [
    "optimal_k =  3\n",
    "kmeans = KMeans(n_clusters=optimal_k, n_init=10)\n",
    "kmeans.fit(arr)\n",
    "\n",
    "sort_order = np.argsort(kmeans.cluster_centers_.flatten())\n",
    "\n",
    "labels = np.zeros_like(kmeans.labels_)\n",
    "for i, cluster in enumerate(sort_order):\n",
    "    labels[kmeans.labels_ == cluster] = i\n",
    "\n",
    "data['cluster_4'] = labels\n",
    "data = data.reset_index()\n",
    "data = data[['IR', 'cluster_4']]\n",
    "\n",
    "train= pd.merge(train, data, how='left', left_on='IR', right_on='IR')\n",
    "test= pd.merge(test, data, how='left', left_on='IR', right_on='IR')"
   ]
  },
  {
   "cell_type": "code",
   "execution_count": 44,
   "metadata": {},
   "outputs": [
    {
     "data": {
      "image/png": "[encoded data removed]",
      "text/plain": [
       "<Figure size 640x480 with 1 Axes>"
      ]
     },
     "metadata": {},
     "output_type": "display_data"
    }
   ],
   "source": [
    "from sklearn.cluster import KMeans\n",
    "from sklearn.metrics import silhouette_score\n",
    "\n",
    "# 'LOI'와 'STATUS'열을 선택하여 데이터셋 생성\n",
    "data = train[['LOI', 'STATUS']]\n",
    "\n",
    "# 'LOI'별로 평균 'STATUS' 계산\n",
    "data = data.groupby(['LOI']).mean()\n",
    "\n",
    "arr = data['STATUS'].to_numpy().reshape(-1, 1)\n",
    "\n",
    "silhouette_scores = []\n",
    "k_range = range(2, 11) \n",
    "for k in k_range:\n",
    "    kmeans = KMeans(n_clusters=k, n_init=10)\n",
    "    cluster_labels = kmeans.fit_predict(arr)\n",
    "    silhouette_scores.append(silhouette_score(arr, cluster_labels))\n",
    "\n",
    "optimal_k_index = silhouette_scores.index(max(silhouette_scores))\n",
    "optimal_k = k_range[optimal_k_index]\n",
    "\n",
    "plt.axvline(x=optimal_k, color='red', linestyle='--', label=f'Optimal k: {optimal_k}')\n",
    "\n",
    "plt.plot(k_range, silhouette_scores, marker='o')\n",
    "plt.xlabel('Number of Clusters (k)')\n",
    "plt.ylabel('Silhouette Score')\n",
    "plt.title('Silhouette Score for Optimal k')\n",
    "plt.xticks(k_range)\n",
    "plt.legend()\n",
    "plt.show()"
   ]
  },
  {
   "cell_type": "code",
   "execution_count": 45,
   "metadata": {},
   "outputs": [],
   "source": [
    "optimal_k =  8\n",
    "kmeans = KMeans(n_clusters=optimal_k, n_init=10)\n",
    "kmeans.fit(arr)\n",
    "\n",
    "sort_order = np.argsort(kmeans.cluster_centers_.flatten())\n",
    "\n",
    "labels = np.zeros_like(kmeans.labels_)\n",
    "for i, cluster in enumerate(sort_order):\n",
    "    labels[kmeans.labels_ == cluster] = i\n",
    "\n",
    "data['cluster_5'] = labels\n",
    "data = data.reset_index()\n",
    "data = data[['LOI', 'cluster_5']]\n",
    "\n",
    "train= pd.merge(train, data, how='left', left_on='LOI', right_on='LOI')\n",
    "test= pd.merge(test, data, how='left', left_on='LOI', right_on='LOI')"
   ]
  },
  {
   "cell_type": "code",
   "execution_count": 46,
   "metadata": {},
   "outputs": [
    {
     "data": {
      "image/png": "[encoded data removed]",
      "text/plain": [
       "<Figure size 640x480 with 1 Axes>"
      ]
     },
     "metadata": {},
     "output_type": "display_data"
    }
   ],
   "source": [
    "from sklearn.cluster import KMeans\n",
    "from sklearn.metrics import silhouette_score\n",
    "\n",
    "# 'CPI'와 'STATUS'열을 선택하여 데이터셋 생성\n",
    "data = train[['CPI', 'STATUS']]\n",
    "\n",
    "# 'CPI'별로 평균 'STATUS' 계산\n",
    "data = data.groupby(['CPI']).mean()\n",
    "\n",
    "arr = data['STATUS'].to_numpy().reshape(-1, 1)\n",
    "\n",
    "silhouette_scores = []\n",
    "k_range = range(2, 11) \n",
    "for k in k_range:\n",
    "    kmeans = KMeans(n_clusters=k, n_init=10)\n",
    "    cluster_labels = kmeans.fit_predict(arr)\n",
    "    silhouette_scores.append(silhouette_score(arr, cluster_labels))\n",
    "\n",
    "optimal_k_index = silhouette_scores.index(max(silhouette_scores))\n",
    "optimal_k = k_range[optimal_k_index]\n",
    "\n",
    "plt.axvline(x=optimal_k, color='red', linestyle='--', label=f'Optimal k: {optimal_k}')\n",
    "\n",
    "plt.plot(k_range, silhouette_scores, marker='o')\n",
    "plt.xlabel('Number of Clusters (k)')\n",
    "plt.ylabel('Silhouette Score')\n",
    "plt.title('Silhouette Score for Optimal k')\n",
    "plt.xticks(k_range)\n",
    "plt.legend()\n",
    "plt.show()"
   ]
  },
  {
   "cell_type": "code",
   "execution_count": 47,
   "metadata": {},
   "outputs": [],
   "source": [
    "optimal_k =  3\n",
    "kmeans = KMeans(n_clusters=optimal_k, n_init=10)\n",
    "kmeans.fit(arr)\n",
    "\n",
    "sort_order = np.argsort(kmeans.cluster_centers_.flatten())\n",
    "\n",
    "labels = np.zeros_like(kmeans.labels_)\n",
    "for i, cluster in enumerate(sort_order):\n",
    "    labels[kmeans.labels_ == cluster] = i\n",
    "    \n",
    "data['cluster_6'] = labels\n",
    "data = data.reset_index()\n",
    "data = data[['CPI', 'cluster_6']]\n",
    "\n",
    "train= pd.merge(train, data, how='left', left_on='CPI', right_on='CPI')\n",
    "test= pd.merge(test, data, how='left', left_on='CPI', right_on='CPI')"
   ]
  },
  {
   "cell_type": "code",
   "execution_count": 48,
   "metadata": {
    "execution": {
     "iopub.execute_input": "2023-12-18T06:17:27.707512Z",
     "iopub.status.busy": "2023-12-18T06:17:27.707247Z",
     "iopub.status.idle": "2023-12-18T06:17:28.895732Z",
     "shell.execute_reply": "2023-12-18T06:17:28.894460Z",
     "shell.execute_reply.started": "2023-12-18T06:17:27.707490Z"
    }
   },
   "outputs": [
    {
     "name": "stdout",
     "output_type": "stream",
     "text": [
      "userID \t 15155 \t 0.0\n",
      "surveyID \t 1293 \t 0.0\n",
      "BIRTH \t 76 \t 0.0\n",
      "GENDER \t 2 \t 0.0\n",
      "REGION \t 17 \t 0.0\n",
      "TYPE \t 3 \t 0.0\n",
      "SQ1 \t 2 \t 0.0009770785964481042\n",
      "SQ2 \t 82 \t 0.0014293615190806859\n",
      "SQ3 \t 47 \t 0.09023044306520002\n",
      "SQ4 \t 7 \t 0.0\n",
      "SQ5 \t 5 \t 0.0\n",
      "SQ6 \t 3 \t 0.0\n",
      "SQ7 \t 17 \t 0.0\n",
      "SQ8 \t 6 \t 0.0\n",
      "A1 \t 23 \t 0.0\n",
      "B1 \t 5 \t 0.0\n",
      "B2 \t 7 \t 0.0\n",
      "B3 \t 5 \t 0.0\n",
      "B4 \t 11 \t 0.0\n",
      "B5 \t 12 \t 0.0\n",
      "TITLE \t 28 \t 0.0\n",
      "IR \t 42 \t 0.0\n",
      "LOI \t 26 \t 0.0\n",
      "CATEGORIES \t 54 \t 0.0\n",
      "CPI \t 43 \t 0.0\n",
      "STATUS \t 2 \t 0.0\n",
      "TITLE2 \t 15 \t 0.0\n",
      "RESRATE_T \t 33 \t 0.0\n",
      "CATEGORIES_CNT \t 53 \t 0.0\n",
      "RESRATE \t 2441 \t 0.2463073803232348\n",
      "RESRATE_S \t 1038 \t 0.000838198242487556\n",
      "STATUS_ratio_IR \t 42 \t 0.0\n",
      "STATUS_ratio_LOI \t 26 \t 0.0\n",
      "STATUS_ratio_CPI \t 43 \t 0.0\n",
      "STATUS_ratio_TYPE \t 3 \t 0.0\n",
      "STATUS_ratio_BIRTH \t 73 \t 0.0\n",
      "STATUS_ratio_REGION \t 17 \t 0.0\n",
      "STATUS_ratio_GENDER \t 2 \t 0.0\n",
      "res_cnt \t 108 \t 0.2463073803232348\n",
      "res_cnt_survey \t 460 \t 0.000838198242487556\n",
      "Points_earned \t 5809 \t 0.2463073803232348\n",
      "Points_earned_mean \t 7182 \t 0.2463073803232348\n",
      "AGE \t 76 \t 0.0\n",
      "Age_Group \t 9 \t 0.0\n",
      "GENDER_TOT_CPI \t 2 \t 0.0\n",
      "GENDER_AVG_CPI \t 2 \t 0.0\n",
      "GENDER_MIN_CPI \t 1 \t 0.0\n",
      "GENDER_MAX_CPI \t 1 \t 0.0\n",
      "GENDER_TOT_LOI \t 2 \t 0.0\n",
      "GENDER_AVG_LOI \t 2 \t 0.0\n",
      "GENDER_MIN_LOI \t 1 \t 0.0\n",
      "GENDER_MAX_LOI \t 1 \t 0.0\n",
      "GENDER_TOT_IR \t 2 \t 0.0\n",
      "GENDER_AVG_IR \t 2 \t 0.0\n",
      "GENDER_MIN_IR \t 1 \t 0.0\n",
      "GENDER_MAX_IR \t 1 \t 0.0\n",
      "REGION_TOT_CPI \t 17 \t 0.0\n",
      "REGION_AVG_CPI \t 17 \t 0.0\n",
      "REGION_MIN_CPI \t 3 \t 0.0\n",
      "REGION_MAX_CPI \t 1 \t 0.0\n",
      "REGION_TOT_LOI \t 17 \t 0.0\n",
      "REGION_AVG_LOI \t 17 \t 0.0\n",
      "REGION_MIN_LOI \t 2 \t 0.0\n",
      "REGION_MAX_LOI \t 2 \t 0.0\n",
      "REGION_TOT_IR \t 17 \t 0.0\n",
      "REGION_AVG_IR \t 17 \t 0.0\n",
      "REGION_MIN_IR \t 2 \t 0.0\n",
      "REGION_MAX_IR \t 1 \t 0.0\n",
      "TYPE_TOT_CPI \t 3 \t 0.0\n",
      "TYPE_AVG_CPI \t 3 \t 0.0\n",
      "TYPE_MIN_CPI \t 2 \t 0.0\n",
      "TYPE_MAX_CPI \t 3 \t 0.0\n",
      "TYPE_TOT_LOI \t 3 \t 0.0\n",
      "TYPE_AVG_LOI \t 3 \t 0.0\n",
      "TYPE_MIN_LOI \t 1 \t 0.0\n",
      "TYPE_MAX_LOI \t 2 \t 0.0\n",
      "TYPE_TOT_IR \t 3 \t 0.0\n",
      "TYPE_AVG_IR \t 3 \t 0.0\n",
      "TYPE_MIN_IR \t 2 \t 0.0\n",
      "TYPE_MAX_IR \t 1 \t 0.0\n",
      "Age_Group_TOT_CPI \t 9 \t 0.0\n",
      "Age_Group_AVG_CPI \t 9 \t 0.0\n",
      "Age_Group_MIN_CPI \t 4 \t 0.0\n",
      "Age_Group_MAX_CPI \t 4 \t 0.0\n",
      "Age_Group_TOT_LOI \t 9 \t 0.0\n",
      "Age_Group_AVG_LOI \t 9 \t 0.0\n",
      "Age_Group_MIN_LOI \t 2 \t 0.0\n",
      "Age_Group_MAX_LOI \t 4 \t 0.0\n",
      "Age_Group_TOT_IR \t 9 \t 0.0\n",
      "Age_Group_AVG_IR \t 9 \t 0.0\n",
      "Age_Group_MIN_IR \t 5 \t 0.0\n",
      "Age_Group_MAX_IR \t 2 \t 0.0\n",
      "cluster_1 \t 2 \t 0.0\n",
      "cluster_2 \t 2 \t 0.0\n",
      "cluster_3 \t 4 \t 0.0\n",
      "cluster_4 \t 3 \t 0.0\n",
      "cluster_5 \t 8 \t 0.0\n",
      "cluster_6 \t 3 \t 0.0\n"
     ]
    }
   ],
   "source": [
    "# 결측값 비율이 30% 이하인 column만 사용\n",
    "features = []\n",
    "for f in train.columns:\n",
    "    if train[f].isnull().sum()/train.shape[0] <= 0.3:\n",
    "        print(f, '\\t', train[f].nunique(), '\\t', train[f].isnull().sum()/train.shape[0])\n",
    "        features.append(f)"
   ]
  },
  {
   "cell_type": "code",
   "execution_count": 49,
   "metadata": {
    "execution": {
     "iopub.execute_input": "2023-12-18T06:18:35.661680Z",
     "iopub.status.busy": "2023-12-18T06:18:35.661260Z",
     "iopub.status.idle": "2023-12-18T06:18:35.667313Z",
     "shell.execute_reply": "2023-12-18T06:18:35.666327Z",
     "shell.execute_reply.started": "2023-12-18T06:18:35.661649Z"
    }
   },
   "outputs": [],
   "source": [
    "# 불필요한 ID들은 제외\n",
    "# SQ1 ~ SQ3는 GENDER, BIRTH, REGION과 중복이어서 제외\n",
    "features.remove('userID')\n",
    "features.remove('surveyID')\n",
    "features.remove('STATUS')\n",
    "features.remove('SQ1')\n",
    "features.remove('SQ2')\n",
    "features.remove('SQ3')"
   ]
  },
  {
   "cell_type": "code",
   "execution_count": 50,
   "metadata": {
    "execution": {
     "iopub.execute_input": "2023-12-18T06:18:36.154106Z",
     "iopub.status.busy": "2023-12-18T06:18:36.153525Z",
     "iopub.status.idle": "2023-12-18T06:18:37.225997Z",
     "shell.execute_reply": "2023-12-18T06:18:37.224593Z",
     "shell.execute_reply.started": "2023-12-18T06:18:36.154075Z"
    },
    "papermill": {
     "duration": 0.313382,
     "end_time": "2023-12-11T12:10:28.329644",
     "exception": false,
     "start_time": "2023-12-11T12:10:28.016262",
     "status": "completed"
    },
    "tags": []
   },
   "outputs": [],
   "source": [
    "# 데이터 필터링\n",
    "X_train = train[features]\n",
    "X_test = test[features]\n",
    "y_train = train['STATUS']\n",
    "\n",
    "# submission을 만들 때 사용하기 위해 ID 저정\n",
    "ID_test = test.ID\n",
    "\n",
    "# 메모리 낭비를 막기위해 불필요한 데이터 삭제\n",
    "#del train, test \n",
    "#gc.collect()"
   ]
  },
  {
   "cell_type": "code",
   "execution_count": 51,
   "metadata": {
    "execution": {
     "iopub.execute_input": "2023-12-18T06:18:48.606762Z",
     "iopub.status.busy": "2023-12-18T06:18:48.606319Z",
     "iopub.status.idle": "2023-12-18T06:18:48.614206Z",
     "shell.execute_reply": "2023-12-18T06:18:48.612793Z",
     "shell.execute_reply.started": "2023-12-18T06:18:48.606722Z"
    },
    "papermill": {
     "duration": 0.021063,
     "end_time": "2023-12-11T12:10:28.361605",
     "exception": false,
     "start_time": "2023-12-11T12:10:28.340542",
     "status": "completed"
    },
    "tags": []
   },
   "outputs": [],
   "source": [
    "# 범주형 변수와 수치형 변수를 분리\n",
    "cat_features = ['GENDER', 'REGION', 'TYPE', 'SQ4', 'SQ5', 'SQ6', 'SQ7', 'SQ8', 'A1', 'B1', 'B2', 'B3', 'B4', 'B5','CATEGORIES','cluster_1','cluster_2','cluster_3','cluster_4','cluster_5', 'cluster_6']\n",
    "num_features = list(set(X_train.columns) - set(cat_features))"
   ]
  },
  {
   "cell_type": "code",
   "execution_count": 52,
   "metadata": {
    "execution": {
     "iopub.execute_input": "2023-12-18T06:18:51.103090Z",
     "iopub.status.busy": "2023-12-18T06:18:51.102278Z",
     "iopub.status.idle": "2023-12-18T06:18:56.646586Z",
     "shell.execute_reply": "2023-12-18T06:18:56.644912Z",
     "shell.execute_reply.started": "2023-12-18T06:18:51.103049Z"
    },
    "papermill": {
     "duration": 2.935148,
     "end_time": "2023-12-11T12:10:31.350958",
     "exception": false,
     "start_time": "2023-12-11T12:10:28.41581",
     "status": "completed"
    },
    "tags": []
   },
   "outputs": [],
   "source": [
    "# 결측값 처리: 수치형 변수에 대해 평균으로 대체\n",
    "if len(num_features) > 0:\n",
    "    imp = SimpleImputer(strategy='mean')\n",
    "    X_train[num_features] = imp.fit_transform(X_train[num_features])\n",
    "    X_test[num_features] = imp.transform(X_test[num_features])\n",
    "\n",
    "# 결측값 처리: 범주형 변수에 대해 가장 빈번한 값으로 대체\n",
    "if len(cat_features) > 0:  \n",
    "    imp = SimpleImputer(strategy=\"most_frequent\")\n",
    "    X_train[cat_features] = imp.fit_transform(X_train[cat_features])\n",
    "    X_test[cat_features] = imp.transform(X_test[cat_features])"
   ]
  },
  {
   "cell_type": "code",
   "execution_count": 53,
   "metadata": {
    "execution": {
     "iopub.execute_input": "2023-12-18T06:18:56.648878Z",
     "iopub.status.busy": "2023-12-18T06:18:56.648553Z",
     "iopub.status.idle": "2023-12-18T06:18:56.754784Z",
     "shell.execute_reply": "2023-12-18T06:18:56.753757Z",
     "shell.execute_reply.started": "2023-12-18T06:18:56.648851Z"
    },
    "papermill": {
     "duration": 0.119136,
     "end_time": "2023-12-11T12:10:31.480753",
     "exception": false,
     "start_time": "2023-12-11T12:10:31.361617",
     "status": "completed"
    },
    "tags": []
   },
   "outputs": [],
   "source": [
    "# 'GENDER'와 'REGION' 변수를 정수형으로 변환\n",
    "X_train['GENDER'] = X_train['GENDER'].astype(int)\n",
    "X_train['REGION'] = X_train['REGION'].astype(int)\n",
    "X_test['GENDER'] = X_test['GENDER'].astype(int)\n",
    "X_test['REGION'] = X_test['REGION'].astype(int)"
   ]
  },
  {
   "cell_type": "code",
   "execution_count": 54,
   "metadata": {
    "execution": {
     "iopub.execute_input": "2023-12-18T06:18:58.156976Z",
     "iopub.status.busy": "2023-12-18T06:18:58.156533Z",
     "iopub.status.idle": "2023-12-18T06:18:59.160830Z",
     "shell.execute_reply": "2023-12-18T06:18:59.159926Z",
     "shell.execute_reply.started": "2023-12-18T06:18:58.156943Z"
    },
    "papermill": {
     "duration": 0.105752,
     "end_time": "2023-12-11T12:10:31.61877",
     "exception": false,
     "start_time": "2023-12-11T12:10:31.513018",
     "status": "completed"
    },
    "tags": []
   },
   "outputs": [],
   "source": [
    "# 수치형 변수에 대해 표준화 수행\n",
    "scaler = StandardScaler()\n",
    "X_train[num_features] = scaler.fit_transform(X_train[num_features])\n",
    "X_test[num_features] = scaler.transform(X_test[num_features])"
   ]
  },
  {
   "cell_type": "code",
   "execution_count": 55,
   "metadata": {
    "execution": {
     "iopub.execute_input": "2023-12-18T06:18:59.532978Z",
     "iopub.status.busy": "2023-12-18T06:18:59.532534Z",
     "iopub.status.idle": "2023-12-18T06:19:03.036969Z",
     "shell.execute_reply": "2023-12-18T06:19:03.035504Z",
     "shell.execute_reply.started": "2023-12-18T06:18:59.532944Z"
    },
    "papermill": {
     "duration": 3.450278,
     "end_time": "2023-12-11T12:10:35.102891",
     "exception": false,
     "start_time": "2023-12-11T12:10:31.652613",
     "status": "completed"
    },
    "tags": []
   },
   "outputs": [],
   "source": [
    "# 범주형 변수에 대해 OrdianlEncoder 수행\n",
    "le = OrdinalEncoder(handle_unknown='use_encoded_value', unknown_value=-1, dtype=int)\n",
    "X_train[cat_features] = le.fit_transform(X_train[cat_features])\n",
    "X_test[cat_features] = le.transform(X_test[cat_features])"
   ]
  },
  {
   "cell_type": "code",
   "execution_count": 56,
   "metadata": {
    "execution": {
     "iopub.execute_input": "2023-12-18T06:19:17.824191Z",
     "iopub.status.busy": "2023-12-18T06:19:17.823790Z",
     "iopub.status.idle": "2023-12-18T06:22:03.226645Z",
     "shell.execute_reply": "2023-12-18T06:22:03.225439Z",
     "shell.execute_reply.started": "2023-12-18T06:19:17.824159Z"
    }
   },
   "outputs": [
    {
     "name": "stdout",
     "output_type": "stream",
     "text": [
      "[LightGBM] [Info] Number of positive: 316565, number of negative: 497085\n",
      "[LightGBM] [Info] Auto-choosing row-wise multi-threading, the overhead of testing was 0.067674 seconds.\n",
      "You can set `force_row_wise=true` to remove the overhead.\n",
      "And if memory is not enough, you can set `force_col_wise=true`.\n",
      "[LightGBM] [Info] Total Bins 2431\n",
      "[LightGBM] [Info] Number of data points in the train set: 813650, number of used features: 80\n",
      "[LightGBM] [Info] [binary:BoostFromScore]: pavg=0.389068 -> initscore=-0.451232\n",
      "[LightGBM] [Info] Start training from score -0.451232\n"
     ]
    },
    {
     "data": {
      "image/png": "[encoded data removed]",
      "text/plain": [
       "<Figure size 800x950 with 1 Axes>"
      ]
     },
     "metadata": {},
     "output_type": "display_data"
    },
    {
     "data": {
      "text/html": [
       "<div>\n",
       "<style scoped>\n",
       "    .dataframe tbody tr th:only-of-type {\n",
       "        vertical-align: middle;\n",
       "    }\n",
       "\n",
       "    .dataframe tbody tr th {\n",
       "        vertical-align: top;\n",
       "    }\n",
       "\n",
       "    .dataframe thead th {\n",
       "        text-align: right;\n",
       "    }\n",
       "</style>\n",
       "<table border=\"1\" class=\"dataframe\">\n",
       "  <thead>\n",
       "    <tr style=\"text-align: right;\">\n",
       "      <th></th>\n",
       "      <th>column_name</th>\n",
       "      <th>shap_importance</th>\n",
       "    </tr>\n",
       "  </thead>\n",
       "  <tbody>\n",
       "    <tr>\n",
       "      <th>87</th>\n",
       "      <td>cluster_2</td>\n",
       "      <td>1.822246</td>\n",
       "    </tr>\n",
       "    <tr>\n",
       "      <th>23</th>\n",
       "      <td>RESRATE</td>\n",
       "      <td>1.044437</td>\n",
       "    </tr>\n",
       "    <tr>\n",
       "      <th>24</th>\n",
       "      <td>RESRATE_S</td>\n",
       "      <td>0.475067</td>\n",
       "    </tr>\n",
       "    <tr>\n",
       "      <th>32</th>\n",
       "      <td>res_cnt</td>\n",
       "      <td>0.205265</td>\n",
       "    </tr>\n",
       "    <tr>\n",
       "      <th>35</th>\n",
       "      <td>Points_earned_mean</td>\n",
       "      <td>0.10564</td>\n",
       "    </tr>\n",
       "    <tr>\n",
       "      <th>...</th>\n",
       "      <td>...</td>\n",
       "      <td>...</td>\n",
       "    </tr>\n",
       "    <tr>\n",
       "      <th>60</th>\n",
       "      <td>REGION_MIN_IR</td>\n",
       "      <td>0.0</td>\n",
       "    </tr>\n",
       "    <tr>\n",
       "      <th>61</th>\n",
       "      <td>REGION_MAX_IR</td>\n",
       "      <td>0.0</td>\n",
       "    </tr>\n",
       "    <tr>\n",
       "      <th>62</th>\n",
       "      <td>TYPE_TOT_CPI</td>\n",
       "      <td>0.0</td>\n",
       "    </tr>\n",
       "    <tr>\n",
       "      <th>63</th>\n",
       "      <td>TYPE_AVG_CPI</td>\n",
       "      <td>0.0</td>\n",
       "    </tr>\n",
       "    <tr>\n",
       "      <th>91</th>\n",
       "      <td>cluster_6</td>\n",
       "      <td>0.0</td>\n",
       "    </tr>\n",
       "  </tbody>\n",
       "</table>\n",
       "<p>92 rows × 2 columns</p>\n",
       "</div>"
      ],
      "text/plain": [
       "           column_name shap_importance\n",
       "87           cluster_2        1.822246\n",
       "23             RESRATE        1.044437\n",
       "24           RESRATE_S        0.475067\n",
       "32             res_cnt        0.205265\n",
       "35  Points_earned_mean         0.10564\n",
       "..                 ...             ...\n",
       "60       REGION_MIN_IR             0.0\n",
       "61       REGION_MAX_IR             0.0\n",
       "62        TYPE_TOT_CPI             0.0\n",
       "63        TYPE_AVG_CPI             0.0\n",
       "91           cluster_6             0.0\n",
       "\n",
       "[92 rows x 2 columns]"
      ]
     },
     "execution_count": 56,
     "metadata": {},
     "output_type": "execute_result"
    }
   ],
   "source": [
    "# 'shap' 라이브러리를 사용하여 LightGM 모델의 예측에 대한 feature 중요도 계산\n",
    "\n",
    "import shap # v2.0부터 추가\n",
    "\n",
    "# 중요도를 확인할 데이터프레임\n",
    "X_importance = X_test\n",
    "\n",
    "# shap 라이브러리를 사용하여 모델 예측 설명\n",
    "model = LGBMClassifier(random_state=0).fit(X_train, y_train)\n",
    "explainer = shap.TreeExplainer(model)\n",
    "shap_values = explainer.shap_values(X_importance)\n",
    "\n",
    "# summary_plot을 막대 그래프로 그리기\n",
    "shap.summary_plot(shap_values, X_importance, plot_type='bar')\n",
    "\n",
    "# SHAP 값의 절대값을 평균내어 feature 중요도 계산\n",
    "shap_sum = np.abs(shap_values).mean(axis=1)[1,:]\n",
    "importance_df = pd.DataFrame([X_importance.columns.tolist(), shap_sum.tolist()]).T\n",
    "importance_df.columns = ['column_name', 'shap_importance']\n",
    "importance_df = importance_df.sort_values('shap_importance', ascending=False)\n",
    "importance_df"
   ]
  },
  {
   "cell_type": "code",
   "execution_count": 57,
   "metadata": {},
   "outputs": [
    {
     "name": "stdout",
     "output_type": "stream",
     "text": [
      "(813650, 45)\n"
     ]
    }
   ],
   "source": [
    "# feature 중요도가 0 이상인 feature 선택\n",
    "SHAP_THRESHOLD = 0\n",
    "features_selected = importance_df.query('shap_importance > @SHAP_THRESHOLD').column_name.tolist()\n",
    "\n",
    "# 선택된 feature를 X_train과 X_test를 필터링\n",
    "X_train = X_train[features_selected]\n",
    "X_test = X_test[features_selected]\n",
    "print(X_train.shape)"
   ]
  },
  {
   "cell_type": "code",
   "execution_count": 58,
   "metadata": {},
   "outputs": [],
   "source": [
    "# KMeansFeaturizer를 사용하여 클러스터링 feature 생성\n",
    "kmf_hint = KMeansFeaturizer(k=10, target_scale=5, one_hot=False, random_state=0).fit(X_train)\n",
    "\n",
    "# 'train' 데이터와 'test' 데이터에 클러스터링 feature 추가\n",
    "train_cluster_features = kmf_hint.transform(X_train)\n",
    "test_cluster_features = kmf_hint.transform(X_test)\n",
    "\n",
    "# 클러스터링 feature를 'X_train'과 'X_test'에 추가\n",
    "X_train = pd.concat([X_train, pd.Series(train_cluster_features, name='CLUSTER')], axis=1)\n",
    "X_test = pd.concat([X_test, pd.Series(test_cluster_features, name='CLUSTER')], axis=1)"
   ]
  },
  {
   "cell_type": "code",
   "execution_count": 2,
   "metadata": {},
   "outputs": [],
   "source": [
    "# 데이터 저장\n",
    "with gzip.open('last dance_3.zip', 'wb') as f:\n",
    "    pickle.dump([train,test,X_train, y_train, X_test, ID_test, cat_features, num_features], f)"
   ]
  },
  {
   "cell_type": "markdown",
   "metadata": {
    "papermill": {
     "duration": 0.010816,
     "end_time": "2023-12-11T12:10:43.001343",
     "exception": false,
     "start_time": "2023-12-11T12:10:42.990527",
     "status": "completed"
    },
    "tags": []
   },
   "source": [
    "<font color=\"#CC3D3D\"><p>\n",
    "# End"
   ]
  }
 ],
 "metadata": {
  "kaggle": {
   "accelerator": "none",
   "dataSources": [
    {
     "databundleVersionId": 7261066,
     "sourceId": 65909,
     "sourceType": "competition"
    },
    {
     "datasetId": 4183940,
     "sourceId": 7227212,
     "sourceType": "datasetVersion"
    }
   ],
   "dockerImageVersionId": 30615,
   "isGpuEnabled": false,
   "isInternetEnabled": true,
   "language": "python",
   "sourceType": "notebook"
  },
  "kernelspec": {
   "display_name": "Python 3 (ipykernel)",
   "language": "python",
   "name": "python3"
  },
  "language_info": {
   "codemirror_mode": {
    "name": "ipython",
    "version": 3
   },
   "file_extension": ".py",
   "mimetype": "text/x-python",
   "name": "python",
   "nbconvert_exporter": "python",
   "pygments_lexer": "ipython3",
   "version": "3.11.5"
  },
  "papermill": {
   "default_parameters": {},
   "duration": 65.031816,
   "end_time": "2023-12-11T12:10:43.93772",
   "environment_variables": {},
   "exception": null,
   "input_path": "__notebook__.ipynb",
   "output_path": "__notebook__.ipynb",
   "parameters": {},
   "start_time": "2023-12-11T12:09:38.905904",
   "version": "2.4.0"
  }
 },
 "nbformat": 4,
 "nbformat_minor": 4
}
